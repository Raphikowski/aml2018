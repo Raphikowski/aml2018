{
 "cells": [
  {
   "cell_type": "code",
   "execution_count": 1,
   "metadata": {},
   "outputs": [],
   "source": [
    "import os\n",
    "\n",
    "import numpy as np\n",
    "import matplotlib.pyplot as plt\n",
    "%matplotlib inline"
   ]
  },
  {
   "cell_type": "code",
   "execution_count": 2,
   "metadata": {},
   "outputs": [],
   "source": [
    "def get_metrics(log_file):\n",
    "    with open(log_file, 'r') as temp:\n",
    "        lines = temp.readlines()\n",
    "        \n",
    "    # Get metrics\n",
    "    train_dict = {'Step': [], 'Acc': [], 'Loss': []}\n",
    "    eval_dict = {'Step': [], 'Acc': [], 'Loss': []}\n",
    "    is_conf_line = True\n",
    "    conf = ''\n",
    "    \n",
    "    for line in lines:\n",
    "        info = None\n",
    "            \n",
    "        if '[TRAIN]' in line:\n",
    "            is_conf_line = False\n",
    "            items = line.split('[TRAIN]')[-1].split(';')\n",
    "            for item in items:\n",
    "                key, value = item.strip().split(':')\n",
    "                train_dict[key].append(float(value))\n",
    "        if '[EVAL]' in line:\n",
    "            items = line.split('[EVAL]')[-1].split(';')\n",
    "            for item in items:\n",
    "                key, value = item.strip().split(':')\n",
    "                eval_dict[key].append(float(value))\n",
    "                \n",
    "        if is_conf_line:\n",
    "            if 'INFO:' in line:\n",
    "                line = line.split('INFO:')[-1].strip() + '\\n'\n",
    "            conf += line\n",
    "            \n",
    "    return conf, train_dict, eval_dict"
   ]
  },
  {
   "cell_type": "code",
   "execution_count": 3,
   "metadata": {},
   "outputs": [],
   "source": [
    "log_file = 'lenet/train_15_wd_1e-6_1.log'\n",
    "conf, train_dict, eval_dict = get_metrics(log_file)"
   ]
  },
  {
   "cell_type": "code",
   "execution_count": 4,
   "metadata": {},
   "outputs": [
    {
     "data": {
      "image/png": "[encoded data removed]",
      "text/plain": [
       "<Figure size 432x288 with 1 Axes>"
      ]
     },
     "metadata": {},
     "output_type": "display_data"
    }
   ],
   "source": [
    "plt.plot(train_dict['Step'], train_dict['Loss'], label='train loss')\n",
    "plt.plot(eval_dict['Step'], eval_dict['Loss'], label='eval loss')\n",
    "plt.yscale('log')\n",
    "plt.legend()\n",
    "plt.xlabel('step')\n",
    "plt.ylabel('loss')\n",
    "plt.show()"
   ]
  },
  {
   "cell_type": "code",
   "execution_count": 5,
   "metadata": {},
   "outputs": [
    {
     "name": "stdout",
     "output_type": "stream",
     "text": [
      "### Model ###\n",
      "LeNet5(\n",
      "  (convnet): Sequential(\n",
      "    (0): Conv2d(1, 6, kernel_size=(5, 5), stride=(1, 1))\n",
      "    (1): ReLU()\n",
      "    (2): MaxPool2d(kernel_size=(2, 2), stride=2, padding=0, dilation=1, ceil_mode=False)\n",
      "    (3): Conv2d(6, 16, kernel_size=(5, 5), stride=(1, 1))\n",
      "    (4): ReLU()\n",
      "    (5): MaxPool2d(kernel_size=(2, 2), stride=2, padding=0, dilation=1, ceil_mode=False)\n",
      "    (6): Conv2d(16, 120, kernel_size=(5, 5), stride=(1, 1))\n",
      "    (7): ReLU()\n",
      "    (8): Conv2d(120, 240, kernel_size=(5, 5), stride=(1, 1))\n",
      "    (9): ReLU()\n",
      "  )\n",
      "  (fc): Sequential(\n",
      "    (0): Linear(in_features=240, out_features=84, bias=True)\n",
      "    (1): ReLU()\n",
      "    (2): Linear(in_features=84, out_features=10, bias=True)\n",
      "  )\n",
      ")\n",
      "### Optimizer ###\n",
      "Adam (\n",
      "Parameter Group 0\n",
      "    amsgrad: False\n",
      "    betas: (0.9, 0.999)\n",
      "    eps: 1e-08\n",
      "    lr: 0.001\n",
      "    weight_decay: 1e-06\n",
      ")\n",
      "### Scheduler ###\n",
      "<torch.optim.lr_scheduler.ReduceLROnPlateau object at 0x108590dd8>\n",
      "### HParams ###\n",
      "n_epochs: 15 ; data: ferplus ; label: ferplus_votes ; batch_size: 24 ; lr: 0.001 ; wd: 1e-06 ; init: kaiming_he ; scheduler_patience: 5 ; scheduler_factor: 0.5 ; eval_steps: 1190\n",
      "\n"
     ]
    }
   ],
   "source": [
    "print(conf)"
   ]
  },
  {
   "cell_type": "code",
   "execution_count": 8,
   "metadata": {},
   "outputs": [
    {
     "name": "stdout",
     "output_type": "stream",
     "text": [
      "[17.47, 15.786, 15.5, 14.597, 15.401, 15.074, 16.097, 15.989, 16.885, 17.438, 16.438, 17.195, 17.268, 17.801, 17.985]\n"
     ]
    }
   ],
   "source": [
    "print(eval_dict['Loss'])"
   ]
  },
  {
   "cell_type": "code",
   "execution_count": null,
   "metadata": {},
   "outputs": [],
   "source": []
  },
  {
   "cell_type": "code",
   "execution_count": null,
   "metadata": {},
   "outputs": [],
   "source": []
  },
  {
   "cell_type": "code",
   "execution_count": null,
   "metadata": {},
   "outputs": [],
   "source": []
  }
 ],
 "metadata": {
  "kernelspec": {
   "display_name": "Python 3",
   "language": "python",
   "name": "python3"
  },
  "language_info": {
   "codemirror_mode": {
    "name": "ipython",
    "version": 3
   },
   "file_extension": ".py",
   "mimetype": "text/x-python",
   "name": "python",
   "nbconvert_exporter": "python",
   "pygments_lexer": "ipython3",
   "version": "3.6.5"
  }
 },
 "nbformat": 4,
 "nbformat_minor": 2
}
