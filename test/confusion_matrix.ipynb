{
 "cells": [
  {
   "cell_type": "code",
   "execution_count": null,
   "metadata": {
    "collapsed": true
   },
   "outputs": [],
   "source": [
    "import numpy as np\n",
    "from sklearn.metrics import confusion_matrix"
   ]
  },
  {
   "cell_type": "code",
   "execution_count": null,
   "metadata": {
    "collapsed": true
   },
   "outputs": [],
   "source": []
  },
  {
   "cell_type": "code",
   "execution_count": null,
   "metadata": {
    "collapsed": true
   },
   "outputs": [],
   "source": [
    "model.load_state_dict(checkpoint[‚state_dict‘])\n",
    "#model.load_state_dict(torch.load('mytraining.pt'))\n",
    "\n",
    "true_labels = []\n",
    "\n",
    "eval_labels = []\n",
    "\n",
    "if step > 0 and step % eval_steps == 0:\n",
    "    model.eval()\n",
    "    eval_samples_correct = 0\n",
    "    eval_loss = 0\n",
    "    for x_batch, y_batch in eval_dataloader:\n",
    "        logits = model(x_batch)\n",
    "        probs = softmax(logits)\n",
    "        log_probs = torch.log(probs)\n",
    "        eval_loss += loss_fn(log_probs, y_batch)\n",
    "        eval_samples_correct += probs.argmax(dim=-1).eq(y_batch.argmax(dim=-1)).sum().item()\n",
    "        true_labels.append(probs.argmax(dim=-1))\n",
    "        true_labels.append(y_batch.argmax(dim=-1))\n",
    "\n",
    "    #eval_loss /= len(eval_dataloader) \n",
    "    #eval_acc = eval_samples_correct / len(eval_dataset)*100\n",
    "    #eval_summary = '[EVAL] Step: {} ; Loss: {:05.3f} ; Acc: {:02.3f}'.format(step, eval_loss, eval_acc)\n",
    "    #print(eval_summary)\n",
    "    \n",
    "    \n",
    "confusion_matrix(true_labels, eval_labels)\n",
    "\n",
    "\n"
   ]
  }
 ],
 "metadata": {
  "kernelspec": {
   "display_name": "Python 3",
   "language": "python",
   "name": "python3"
  },
  "language_info": {
   "codemirror_mode": {
    "name": "ipython",
    "version": 3
   },
   "file_extension": ".py",
   "mimetype": "text/x-python",
   "name": "python",
   "nbconvert_exporter": "python",
   "pygments_lexer": "ipython3",
   "version": "3.6.2"
  }
 },
 "nbformat": 4,
 "nbformat_minor": 2
}
