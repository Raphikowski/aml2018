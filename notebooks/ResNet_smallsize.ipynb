{
 "cells": [
  {
   "cell_type": "code",
   "execution_count": 1,
   "metadata": {
    "collapsed": true
   },
   "outputs": [],
   "source": [
    "import sys\n",
    "sys.path.append(\"..\")\n",
    "from utils.dataset import FerDataset\n",
    "\n",
    "import numpy as np\n",
    "\n",
    "import torch\n",
    "import torch.nn as nn\n",
    "from torch.utils.data import DataLoader\n",
    "\n",
    "import torchvision\n",
    "\n",
    "from PIL import Image\n",
    "\n",
    "import matplotlib.pyplot as plt\n",
    "%matplotlib inline"
   ]
  },
  {
   "cell_type": "code",
   "execution_count": 2,
   "metadata": {
    "collapsed": true
   },
   "outputs": [],
   "source": [
    "class ResidualUnit(nn.Module):\n",
    "    \n",
    "    def __init__(self, depth_in, depth_out):\n",
    "        super(ResidualUnit, self).__init__()\n",
    "        self.stride = 1\n",
    "        self.relu = nn.ReLU()\n",
    "        \n",
    "        self.resBlock = nn.Sequential(\n",
    "            nn.Conv2d(depth_in, depth_out, kernel_size=(3, 3), stride = self.stride, padding = 1),\n",
    "            nn.BatchNorm2d(depth_out),\n",
    "            nn.ReLU(),\n",
    "            nn.Conv2d(depth_out, depth_out, kernel_size=(3, 3), stride = self.stride, padding = 1),\n",
    "            nn.BatchNorm2d(depth_out)\n",
    "        )\n",
    "        \n",
    "    def forward(self, x):\n",
    "        #Residual unit\n",
    "        identity = x\n",
    "        \n",
    "        result = self.resBlock(x)\n",
    "        #Residual unit\n",
    "        #print(\"x.shape\", x.shape)\n",
    "        #x = x.view(x.size(0), -1)\n",
    "        \n",
    "        result += identity\n",
    "        result = self.relu(result)\n",
    "        \n",
    "        return result"
   ]
  },
  {
   "cell_type": "code",
   "execution_count": 3,
   "metadata": {
    "collapsed": true
   },
   "outputs": [],
   "source": [
    "class DownsampleResidualUnit(nn.Module):\n",
    "    \n",
    "    def __init__(self, depth_in, depth_out):\n",
    "        super(DownsampleResidualUnit, self).__init__()\n",
    "        self.stride = 2\n",
    "        self.relu = nn.ReLU()\n",
    "        \n",
    "        self.resBlock = nn.Sequential(\n",
    "            nn.Conv2d(depth_in, depth_out, kernel_size=(3, 3), stride = self.stride, padding = 1),\n",
    "            nn.BatchNorm2d(depth_out),\n",
    "            nn.ReLU(),\n",
    "            nn.Conv2d(depth_out, depth_out, kernel_size=(3, 3), stride = 1, padding = 1),\n",
    "            nn.BatchNorm2d(depth_out)\n",
    "        )\n",
    "        \n",
    "        self.matchDim = nn.Sequential(\n",
    "            nn.Conv2d(depth_in, depth_out, kernel_size=(1,1), stride=self.stride, padding = 0),\n",
    "            # this is required to match the dimensions of the identity x with F(x), because\n",
    "            # in this block the first of the two convolutionl layers performs downsamlpling and therefore\n",
    "            # changes the dimensions of the activation volume.\n",
    "            nn.BatchNorm2d(depth_out)\n",
    "        )\n",
    "        \n",
    "        \n",
    "    def forward(self, x):\n",
    "        #Downsample unit\n",
    "        identity = x\n",
    "        \n",
    "        result = self.resBlock(x)\n",
    "        #Downsample unit\n",
    "        #print(\"x.shape\", x.shape)\n",
    "        #x = x.view(x.size(0), -1)\n",
    "        \n",
    "        \n",
    "        identity = self.matchDim(identity)\n",
    "        \n",
    "        \n",
    "        result += identity\n",
    "        result = self.relu(result)\n",
    "        \n",
    "        return result"
   ]
  },
  {
   "cell_type": "code",
   "execution_count": 4,
   "metadata": {
    "collapsed": true
   },
   "outputs": [],
   "source": [
    "class IncreaseDepthKeepSizeUnit(nn.Module):\n",
    "# This class is required when retaining the spatial dimension (height, width) but increasing depth. We cannot use the\n",
    "# Basic Block because there the dimensions of the skip connection do not match with the output.\n",
    "    \n",
    "    def __init__(self, depth_in, depth_out):\n",
    "        super(IncreaseDepthKeepSizeUnit, self).__init__()\n",
    "        # here is the difference to DownsampleUnit: self.stride is 1, such that height and width remains\n",
    "        # unchanged, but depth can be changed.\n",
    "        self.stride = 1\n",
    "        self.relu = nn.ReLU()\n",
    "        \n",
    "        self.resBlock = nn.Sequential(\n",
    "            nn.Conv2d(depth_in, depth_out, kernel_size=(3, 3), stride = self.stride, padding = 1),\n",
    "            nn.BatchNorm2d(depth_out),\n",
    "            nn.ReLU(),\n",
    "            nn.Conv2d(depth_out, depth_out, kernel_size=(3, 3), stride = 1, padding = 1),\n",
    "            nn.BatchNorm2d(depth_out)\n",
    "        )\n",
    "        \n",
    "        self.matchDim = nn.Sequential(\n",
    "            nn.Conv2d(depth_in, depth_out, kernel_size=(1,1), stride=self.stride, padding = 0),\n",
    "            # this is required to match the dimensions of the identity x with F(x), because\n",
    "            # in this block the first of the two convolutionl layers performs downsamlpling and therefore\n",
    "            # changes the dimensions of the activation volume.\n",
    "            nn.BatchNorm2d(depth_out)\n",
    "        )\n",
    "        \n",
    "        \n",
    "    def forward(self, x):\n",
    "        #Downsample unit\n",
    "        identity = x\n",
    "        \n",
    "        result = self.resBlock(x)\n",
    "        #Downsample unit\n",
    "        #print(\"x.shape\", x.shape)\n",
    "        #x = x.view(x.size(0), -1)\n",
    "        \n",
    "        \n",
    "        identity = self.matchDim(identity)\n",
    "        \n",
    "        \n",
    "        result += identity\n",
    "        result = self.relu(result)\n",
    "        \n",
    "        return result"
   ]
  },
  {
   "cell_type": "code",
   "execution_count": 5,
   "metadata": {
    "collapsed": true
   },
   "outputs": [],
   "source": [
    "# https://github.com/pytorch/vision/blob/master/torchvision/models/resnet.py\n",
    "# https://arxiv.org/pdf/1512.03385.pdf"
   ]
  },
  {
   "cell_type": "code",
   "execution_count": 6,
   "metadata": {
    "collapsed": true
   },
   "outputs": [],
   "source": [
    "class ResNet(nn.Module):\n",
    "    \n",
    "    def __init__(self):\n",
    "        super(ResNet, self).__init__()\n",
    "        \n",
    "        self.convnet = nn.Sequential(\n",
    "            # 48 x 48 x 1\n",
    "            nn.Conv2d(1, 64, kernel_size=(7, 7), stride = 2, padding = 3),\n",
    "            # 7 x 7, out_depth=64, stride=2 are given by the paper. The output has to be 24 x 24 x 64.\n",
    "            # Therefore the padding ist calculated via: P = ((width_out-1) * stride + filter_size - width_in)/2\n",
    "            # instead of width_in and width_out one can also use height_in and height_out\n",
    "            # ((24-1)*2+7-48)/2 = P = 2.5, i.e. we choose padding = 3\n",
    "            \n",
    "            # 24 x 24 x 64\n",
    "            \n",
    "            nn.BatchNorm2d(64),\n",
    "            nn.ReLU(),\n",
    "            nn.MaxPool2d(kernel_size=(3, 3), stride=2, padding = 1),\n",
    "            # MaxPool with kernel = (3,3) and stride=2 is given by the paper\n",
    "            # P = ((12-1) * 2 + 3 - 24)/2 = 0.5, i.e. P=1\n",
    "            \n",
    "            # 12 x 12 x 64\n",
    "            ResidualUnit(64, 64),\n",
    "            ResidualUnit(64, 64), \n",
    "            ResidualUnit(64, 64), \n",
    "            \n",
    "            DownsampleResidualUnit(64, 128),\n",
    "            # 6 x 6 x 128\n",
    "            ResidualUnit(128, 128),\n",
    "            ResidualUnit(128, 128),\n",
    "            ResidualUnit(128, 128),\n",
    "            \n",
    "            DownsampleResidualUnit(128, 256),\n",
    "            # 3 x 3 x 256\n",
    "            ResidualUnit(256, 256),\n",
    "            ResidualUnit(256, 256),\n",
    "            ResidualUnit(256, 256),\n",
    "            ResidualUnit(256, 256),\n",
    "            ResidualUnit(256, 256),\n",
    "            \n",
    "            # instead of DownsampleResidualUnit(256, 512),\n",
    "            IncreaseDepthKeepSizeUnit(256, 512),\n",
    "            # 3 x 3 x 512\n",
    "            ResidualUnit(512, 512),\n",
    "            ResidualUnit(512, 512),\n",
    "            \n",
    "            #nn.AdaptiveAvgPool2d(1)  \n",
    "            nn.AvgPool2d(kernel_size = (3,3), stride=1, padding=0)         \n",
    "            # width_out = (width_in - F + 2P)/S+1\n",
    "            # = (3 - 3 + 0)/2 + 1 = 1\n",
    "            # 1 x 1 x 512\n",
    "        )\n",
    "        \n",
    "        \n",
    "        self.fc = nn.Sequential(\n",
    "            nn.Linear(512, 10)        \n",
    "        )\n",
    "        \n",
    "        \n",
    "    def forward(self, x):\n",
    "        x = self.convnet(x)\n",
    "        #print(\"x.shape\", x.shape)\n",
    "        x = x.view(x.size(0), -1)\n",
    "        x = self.fc(x)\n",
    "        return x\n",
    "        "
   ]
  },
  {
   "cell_type": "code",
   "execution_count": 7,
   "metadata": {
    "collapsed": true
   },
   "outputs": [],
   "source": [
    "# i have to check dimension and padding of: the first convolutional layer and the max pooling "
   ]
  },
  {
   "cell_type": "code",
   "execution_count": 8,
   "metadata": {},
   "outputs": [],
   "source": [
    "dataset = FerDataset(base_path='../../data',\n",
    "                     data='ferplus',\n",
    "                     mode='train',\n",
    "                     label='ferplus_votes')\n",
    "dataloader = DataLoader(dataset, batch_size=6, shuffle=True, num_workers=0)\n",
    "net = ResNet()\n",
    "log_softmax = nn.LogSoftmax(dim=-1)\n",
    "criterion = nn.KLDivLoss(size_average=False)\n",
    "optimizer = torch.optim.SGD(net.parameters(), lr=0.0001, momentum=0.9)"
   ]
  },
  {
   "cell_type": "code",
   "execution_count": 9,
   "metadata": {},
   "outputs": [
    {
     "name": "stdout",
     "output_type": "stream",
     "text": [
      "torch.Size([6, 1, 48, 48])\n"
     ]
    }
   ],
   "source": [
    "x_batch, y_batch = next(iter(dataloader))\n",
    "print(x_batch.shape)"
   ]
  },
  {
   "cell_type": "code",
   "execution_count": 10,
   "metadata": {},
   "outputs": [
    {
     "name": "stdout",
     "output_type": "stream",
     "text": [
      "(48, 48)\n"
     ]
    },
    {
     "data": {
      "image/png": "[encoded data removed]",
      "text/plain": [
       "<matplotlib.figure.Figure at 0x7fa4155dff98>"
      ]
     },
     "metadata": {},
     "output_type": "display_data"
    }
   ],
   "source": [
    "image = x_batch[3].numpy()\n",
    "image = image.reshape(48, 48) # make it from 1x48x48 to 48 x48\n",
    "print(image.shape)\n",
    "plt.imshow(image,cmap = plt.get_cmap('gray'))\n",
    "plt.show()"
   ]
  },
  {
   "cell_type": "code",
   "execution_count": 11,
   "metadata": {
    "scrolled": true
   },
   "outputs": [
    {
     "name": "stdout",
     "output_type": "stream",
     "text": [
      "49\r"
     ]
    }
   ],
   "source": [
    "losses = []\n",
    "#for i in range(1000):\n",
    "for i in range(50):\n",
    "    optimizer.zero_grad()\n",
    "    logits = net(x_batch)\n",
    "    log_probs = log_softmax(logits)\n",
    "    loss = criterion(log_probs, y_batch)\n",
    "    losses.append(float(loss))\n",
    "    loss.backward()\n",
    "    optimizer.step()\n",
    "    print(i, end='\\r')"
   ]
  },
  {
   "cell_type": "code",
   "execution_count": 12,
   "metadata": {},
   "outputs": [
    {
     "data": {
      "image/png": "[encoded data removed]",
      "text/plain": [
       "<matplotlib.figure.Figure at 0x7fa4159622e8>"
      ]
     },
     "metadata": {},
     "output_type": "display_data"
    }
   ],
   "source": [
    "plt.plot(losses)\n",
    "plt.yscale('log')"
   ]
  },
  {
   "cell_type": "code",
   "execution_count": 13,
   "metadata": {},
   "outputs": [
    {
     "name": "stdout",
     "output_type": "stream",
     "text": [
      "(48, 48)\n"
     ]
    },
    {
     "data": {
      "image/png": "[encoded data removed]",
      "text/plain": [
       "<matplotlib.figure.Figure at 0x7fa41520ff28>"
      ]
     },
     "metadata": {},
     "output_type": "display_data"
    }
   ],
   "source": [
    "image = x_batch[3].numpy()\n",
    "image = image.reshape(48, 48) # make it from 1x48x48 to 48 x48\n",
    "print(image.shape)\n",
    "plt.imshow(image,cmap = plt.get_cmap('gray'))\n",
    "plt.show()"
   ]
  },
  {
   "cell_type": "code",
   "execution_count": 18,
   "metadata": {},
   "outputs": [
    {
     "name": "stdout",
     "output_type": "stream",
     "text": [
      "tensor([[ 1.0000,  0.0000,  0.0000,  0.0000,  0.0000,  0.0000,  0.0000,\n",
      "          0.0000,  0.0000,  0.0000],\n",
      "        [ 0.0000,  0.0000,  0.0000,  0.0000,  0.9000,  0.1000,  0.0000,\n",
      "          0.0000,  0.0000,  0.0000],\n",
      "        [ 0.9000,  0.0000,  0.0000,  0.0000,  0.0000,  0.0000,  0.0000,\n",
      "          0.0000,  0.1000,  0.0000],\n",
      "        [ 1.0000,  0.0000,  0.0000,  0.0000,  0.0000,  0.0000,  0.0000,\n",
      "          0.0000,  0.0000,  0.0000],\n",
      "        [ 0.0000,  0.9000,  0.0000,  0.0000,  0.0000,  0.0000,  0.0000,\n",
      "          0.0000,  0.1000,  0.0000],\n",
      "        [ 0.8000,  0.0000,  0.0000,  0.0000,  0.0000,  0.0000,  0.0000,\n",
      "          0.0000,  0.2000,  0.0000]])\n"
     ]
    }
   ],
   "source": [
    "print(y_batch)\n",
    "# for each picture there are 10 possible labels (emotions). Each label was voted by several humans, therefore, \n",
    "# several of these 10 layers can have a value higher than 0 (but not greater than 1)"
   ]
  },
  {
   "cell_type": "code",
   "execution_count": 19,
   "metadata": {},
   "outputs": [
    {
     "name": "stdout",
     "output_type": "stream",
     "text": [
      "<bound method Module.named_parameters of ResNet(\n",
      "  (convnet): Sequential(\n",
      "    (0): Conv2d(1, 64, kernel_size=(7, 7), stride=(2, 2), padding=(3, 3))\n",
      "    (1): BatchNorm2d(64, eps=1e-05, momentum=0.1, affine=True, track_running_stats=True)\n",
      "    (2): ReLU()\n",
      "    (3): MaxPool2d(kernel_size=(3, 3), stride=2, padding=1, dilation=1, ceil_mode=False)\n",
      "    (4): ResidualUnit(\n",
      "      (relu): ReLU()\n",
      "      (resBlock): Sequential(\n",
      "        (0): Conv2d(64, 64, kernel_size=(3, 3), stride=(1, 1), padding=(1, 1))\n",
      "        (1): BatchNorm2d(64, eps=1e-05, momentum=0.1, affine=True, track_running_stats=True)\n",
      "        (2): ReLU()\n",
      "        (3): Conv2d(64, 64, kernel_size=(3, 3), stride=(1, 1), padding=(1, 1))\n",
      "        (4): BatchNorm2d(64, eps=1e-05, momentum=0.1, affine=True, track_running_stats=True)\n",
      "      )\n",
      "    )\n",
      "    (5): ResidualUnit(\n",
      "      (relu): ReLU()\n",
      "      (resBlock): Sequential(\n",
      "        (0): Conv2d(64, 64, kernel_size=(3, 3), stride=(1, 1), padding=(1, 1))\n",
      "        (1): BatchNorm2d(64, eps=1e-05, momentum=0.1, affine=True, track_running_stats=True)\n",
      "        (2): ReLU()\n",
      "        (3): Conv2d(64, 64, kernel_size=(3, 3), stride=(1, 1), padding=(1, 1))\n",
      "        (4): BatchNorm2d(64, eps=1e-05, momentum=0.1, affine=True, track_running_stats=True)\n",
      "      )\n",
      "    )\n",
      "    (6): ResidualUnit(\n",
      "      (relu): ReLU()\n",
      "      (resBlock): Sequential(\n",
      "        (0): Conv2d(64, 64, kernel_size=(3, 3), stride=(1, 1), padding=(1, 1))\n",
      "        (1): BatchNorm2d(64, eps=1e-05, momentum=0.1, affine=True, track_running_stats=True)\n",
      "        (2): ReLU()\n",
      "        (3): Conv2d(64, 64, kernel_size=(3, 3), stride=(1, 1), padding=(1, 1))\n",
      "        (4): BatchNorm2d(64, eps=1e-05, momentum=0.1, affine=True, track_running_stats=True)\n",
      "      )\n",
      "    )\n",
      "    (7): DownsampleResidualUnit(\n",
      "      (relu): ReLU()\n",
      "      (resBlock): Sequential(\n",
      "        (0): Conv2d(64, 128, kernel_size=(3, 3), stride=(2, 2), padding=(1, 1))\n",
      "        (1): BatchNorm2d(128, eps=1e-05, momentum=0.1, affine=True, track_running_stats=True)\n",
      "        (2): ReLU()\n",
      "        (3): Conv2d(128, 128, kernel_size=(3, 3), stride=(1, 1), padding=(1, 1))\n",
      "        (4): BatchNorm2d(128, eps=1e-05, momentum=0.1, affine=True, track_running_stats=True)\n",
      "      )\n",
      "      (matchDim): Sequential(\n",
      "        (0): Conv2d(64, 128, kernel_size=(1, 1), stride=(2, 2))\n",
      "        (1): BatchNorm2d(128, eps=1e-05, momentum=0.1, affine=True, track_running_stats=True)\n",
      "      )\n",
      "    )\n",
      "    (8): ResidualUnit(\n",
      "      (relu): ReLU()\n",
      "      (resBlock): Sequential(\n",
      "        (0): Conv2d(128, 128, kernel_size=(3, 3), stride=(1, 1), padding=(1, 1))\n",
      "        (1): BatchNorm2d(128, eps=1e-05, momentum=0.1, affine=True, track_running_stats=True)\n",
      "        (2): ReLU()\n",
      "        (3): Conv2d(128, 128, kernel_size=(3, 3), stride=(1, 1), padding=(1, 1))\n",
      "        (4): BatchNorm2d(128, eps=1e-05, momentum=0.1, affine=True, track_running_stats=True)\n",
      "      )\n",
      "    )\n",
      "    (9): ResidualUnit(\n",
      "      (relu): ReLU()\n",
      "      (resBlock): Sequential(\n",
      "        (0): Conv2d(128, 128, kernel_size=(3, 3), stride=(1, 1), padding=(1, 1))\n",
      "        (1): BatchNorm2d(128, eps=1e-05, momentum=0.1, affine=True, track_running_stats=True)\n",
      "        (2): ReLU()\n",
      "        (3): Conv2d(128, 128, kernel_size=(3, 3), stride=(1, 1), padding=(1, 1))\n",
      "        (4): BatchNorm2d(128, eps=1e-05, momentum=0.1, affine=True, track_running_stats=True)\n",
      "      )\n",
      "    )\n",
      "    (10): ResidualUnit(\n",
      "      (relu): ReLU()\n",
      "      (resBlock): Sequential(\n",
      "        (0): Conv2d(128, 128, kernel_size=(3, 3), stride=(1, 1), padding=(1, 1))\n",
      "        (1): BatchNorm2d(128, eps=1e-05, momentum=0.1, affine=True, track_running_stats=True)\n",
      "        (2): ReLU()\n",
      "        (3): Conv2d(128, 128, kernel_size=(3, 3), stride=(1, 1), padding=(1, 1))\n",
      "        (4): BatchNorm2d(128, eps=1e-05, momentum=0.1, affine=True, track_running_stats=True)\n",
      "      )\n",
      "    )\n",
      "    (11): DownsampleResidualUnit(\n",
      "      (relu): ReLU()\n",
      "      (resBlock): Sequential(\n",
      "        (0): Conv2d(128, 256, kernel_size=(3, 3), stride=(2, 2), padding=(1, 1))\n",
      "        (1): BatchNorm2d(256, eps=1e-05, momentum=0.1, affine=True, track_running_stats=True)\n",
      "        (2): ReLU()\n",
      "        (3): Conv2d(256, 256, kernel_size=(3, 3), stride=(1, 1), padding=(1, 1))\n",
      "        (4): BatchNorm2d(256, eps=1e-05, momentum=0.1, affine=True, track_running_stats=True)\n",
      "      )\n",
      "      (matchDim): Sequential(\n",
      "        (0): Conv2d(128, 256, kernel_size=(1, 1), stride=(2, 2))\n",
      "        (1): BatchNorm2d(256, eps=1e-05, momentum=0.1, affine=True, track_running_stats=True)\n",
      "      )\n",
      "    )\n",
      "    (12): ResidualUnit(\n",
      "      (relu): ReLU()\n",
      "      (resBlock): Sequential(\n",
      "        (0): Conv2d(256, 256, kernel_size=(3, 3), stride=(1, 1), padding=(1, 1))\n",
      "        (1): BatchNorm2d(256, eps=1e-05, momentum=0.1, affine=True, track_running_stats=True)\n",
      "        (2): ReLU()\n",
      "        (3): Conv2d(256, 256, kernel_size=(3, 3), stride=(1, 1), padding=(1, 1))\n",
      "        (4): BatchNorm2d(256, eps=1e-05, momentum=0.1, affine=True, track_running_stats=True)\n",
      "      )\n",
      "    )\n",
      "    (13): ResidualUnit(\n",
      "      (relu): ReLU()\n",
      "      (resBlock): Sequential(\n",
      "        (0): Conv2d(256, 256, kernel_size=(3, 3), stride=(1, 1), padding=(1, 1))\n",
      "        (1): BatchNorm2d(256, eps=1e-05, momentum=0.1, affine=True, track_running_stats=True)\n",
      "        (2): ReLU()\n",
      "        (3): Conv2d(256, 256, kernel_size=(3, 3), stride=(1, 1), padding=(1, 1))\n",
      "        (4): BatchNorm2d(256, eps=1e-05, momentum=0.1, affine=True, track_running_stats=True)\n",
      "      )\n",
      "    )\n",
      "    (14): ResidualUnit(\n",
      "      (relu): ReLU()\n",
      "      (resBlock): Sequential(\n",
      "        (0): Conv2d(256, 256, kernel_size=(3, 3), stride=(1, 1), padding=(1, 1))\n",
      "        (1): BatchNorm2d(256, eps=1e-05, momentum=0.1, affine=True, track_running_stats=True)\n",
      "        (2): ReLU()\n",
      "        (3): Conv2d(256, 256, kernel_size=(3, 3), stride=(1, 1), padding=(1, 1))\n",
      "        (4): BatchNorm2d(256, eps=1e-05, momentum=0.1, affine=True, track_running_stats=True)\n",
      "      )\n",
      "    )\n",
      "    (15): ResidualUnit(\n",
      "      (relu): ReLU()\n",
      "      (resBlock): Sequential(\n",
      "        (0): Conv2d(256, 256, kernel_size=(3, 3), stride=(1, 1), padding=(1, 1))\n",
      "        (1): BatchNorm2d(256, eps=1e-05, momentum=0.1, affine=True, track_running_stats=True)\n",
      "        (2): ReLU()\n",
      "        (3): Conv2d(256, 256, kernel_size=(3, 3), stride=(1, 1), padding=(1, 1))\n",
      "        (4): BatchNorm2d(256, eps=1e-05, momentum=0.1, affine=True, track_running_stats=True)\n",
      "      )\n",
      "    )\n",
      "    (16): ResidualUnit(\n",
      "      (relu): ReLU()\n",
      "      (resBlock): Sequential(\n",
      "        (0): Conv2d(256, 256, kernel_size=(3, 3), stride=(1, 1), padding=(1, 1))\n",
      "        (1): BatchNorm2d(256, eps=1e-05, momentum=0.1, affine=True, track_running_stats=True)\n",
      "        (2): ReLU()\n",
      "        (3): Conv2d(256, 256, kernel_size=(3, 3), stride=(1, 1), padding=(1, 1))\n",
      "        (4): BatchNorm2d(256, eps=1e-05, momentum=0.1, affine=True, track_running_stats=True)\n",
      "      )\n",
      "    )\n",
      "    (17): DownsampleResidualUnit(\n",
      "      (relu): ReLU()\n",
      "      (resBlock): Sequential(\n",
      "        (0): Conv2d(256, 512, kernel_size=(3, 3), stride=(2, 2), padding=(1, 1))\n",
      "        (1): BatchNorm2d(512, eps=1e-05, momentum=0.1, affine=True, track_running_stats=True)\n",
      "        (2): ReLU()\n",
      "        (3): Conv2d(512, 512, kernel_size=(3, 3), stride=(1, 1), padding=(1, 1))\n",
      "        (4): BatchNorm2d(512, eps=1e-05, momentum=0.1, affine=True, track_running_stats=True)\n",
      "      )\n",
      "      (matchDim): Sequential(\n",
      "        (0): Conv2d(256, 512, kernel_size=(1, 1), stride=(2, 2))\n",
      "        (1): BatchNorm2d(512, eps=1e-05, momentum=0.1, affine=True, track_running_stats=True)\n",
      "      )\n",
      "    )\n",
      "    (18): ResidualUnit(\n",
      "      (relu): ReLU()\n",
      "      (resBlock): Sequential(\n",
      "        (0): Conv2d(512, 512, kernel_size=(3, 3), stride=(1, 1), padding=(1, 1))\n",
      "        (1): BatchNorm2d(512, eps=1e-05, momentum=0.1, affine=True, track_running_stats=True)\n",
      "        (2): ReLU()\n",
      "        (3): Conv2d(512, 512, kernel_size=(3, 3), stride=(1, 1), padding=(1, 1))\n",
      "        (4): BatchNorm2d(512, eps=1e-05, momentum=0.1, affine=True, track_running_stats=True)\n",
      "      )\n",
      "    )\n",
      "    (19): ResidualUnit(\n",
      "      (relu): ReLU()\n",
      "      (resBlock): Sequential(\n",
      "        (0): Conv2d(512, 512, kernel_size=(3, 3), stride=(1, 1), padding=(1, 1))\n",
      "        (1): BatchNorm2d(512, eps=1e-05, momentum=0.1, affine=True, track_running_stats=True)\n",
      "        (2): ReLU()\n",
      "        (3): Conv2d(512, 512, kernel_size=(3, 3), stride=(1, 1), padding=(1, 1))\n",
      "        (4): BatchNorm2d(512, eps=1e-05, momentum=0.1, affine=True, track_running_stats=True)\n",
      "      )\n",
      "    )\n",
      "    (20): AvgPool2d(kernel_size=(7, 7), stride=1, padding=0)\n",
      "  )\n",
      "  (fc): Sequential(\n",
      "    (0): Linear(in_features=512, out_features=10, bias=True)\n",
      "  )\n",
      ")>\n"
     ]
    }
   ],
   "source": [
    "print(net.named_parameters)\n",
    "# (string, Parameter) – Tuple containing the name and parameter"
   ]
  },
  {
   "cell_type": "code",
   "execution_count": null,
   "metadata": {
    "collapsed": true
   },
   "outputs": [],
   "source": [
    "def train(model, optimizer, dataloader, loss_function, params):\n",
    "    \n",
    "    # set model, i.e. the NN into train mode. This is required for some specific layers that show different \n",
    "    # behaviour in train and test time such as dropout or batchnorm. Batchnorm e.g. uses the batch mean and batch \n",
    "    # variance (i.e. sample mean and variance) at train time and population mean and population variance at test time.\n",
    "    model = model.train()\n",
    "    \n",
    "    losses = []\n",
    "    \n",
    "    for i, (x_batch, y_batch) in enumerate(dataloader):\n",
    "        \n",
    "        # resize image\n",
    "        x_batch, y_batch = resize_img(x_batch, y_batch, 224)\n",
    "                \n",
    "        # Use GPU if available:\n",
    "        if params.cuda:\n",
    "            x_batch, y_batch = x_batch.cuda(async=True), y_batch.cuda(async=True)\n",
    "          \n",
    "        # our last layer in the network should perform softmax classification\n",
    "        log_softmax = nn.LogSoftmax(dim=-1)\n",
    "            \n",
    "        # calculate loss\n",
    "        logits = model(x_batch)\n",
    "        log_probs = log_softmax(logits)\n",
    "        loss = loss_function(log_probs, y_batch)\n",
    "        \n",
    "        # set gradient for this iteration to zero so that it doesnt accumulate over training\n",
    "        optimizer.zero_grad()\n",
    "        \n",
    "        # calculate gradients in backwardpass\n",
    "        loss.backward()\n",
    "        \n",
    "        # add loss to array losses\n",
    "        losses.append(float(loss))\n",
    "        \n",
    "        # update the weights with the calculated gradients\n",
    "        optimizer.step()\n",
    "        \n",
    "        print(i, end='\\r')\n",
    "            \n",
    "        \n",
    "            \n",
    "            \n",
    "        \n",
    "    \n",
    "    \n",
    "    \n",
    "    \n",
    "    \n",
    "    \n",
    "    \n",
    "    \n",
    "    \n",
    "    \n",
    "    \n",
    "    \n",
    "    "
   ]
  }
 ],
 "metadata": {
  "kernelspec": {
   "display_name": "Python 3",
   "language": "python",
   "name": "python3"
  },
  "language_info": {
   "codemirror_mode": {
    "name": "ipython",
    "version": 3
   },
   "file_extension": ".py",
   "mimetype": "text/x-python",
   "name": "python",
   "nbconvert_exporter": "python",
   "pygments_lexer": "ipython3",
   "version": "3.6.2"
  }
 },
 "nbformat": 4,
 "nbformat_minor": 2
}
