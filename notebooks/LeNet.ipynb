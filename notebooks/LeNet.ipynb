{
 "cells": [
  {
   "cell_type": "code",
   "execution_count": 1,
   "metadata": {},
   "outputs": [],
   "source": [
    "import os\n",
    "import sys\n",
    "sys.path.append('..')\n",
    "from utils.dataset import FerDataset\n",
    "from utils.tools import init_logger\n",
    "\n",
    "import numpy as np\n",
    "from tqdm import tqdm_notebook as tqdm\n",
    "import logging\n",
    "import time\n",
    "\n",
    "import torch\n",
    "import torch.nn as nn\n",
    "from torch.utils.data import DataLoader\n",
    "\n",
    "import matplotlib.pyplot as plt\n",
    "%matplotlib inline"
   ]
  },
  {
   "cell_type": "code",
   "execution_count": 2,
   "metadata": {},
   "outputs": [],
   "source": [
    "class RunningAverage(object):\n",
    "    \n",
    "    def __init__(self, window):\n",
    "        self.window = window\n",
    "        self.values = []\n",
    "        self.mean = 0\n",
    "        \n",
    "    def update(self, value):\n",
    "        self.values.append(value)\n",
    "        if len(self.values) > self.window:\n",
    "            self.mean += (value - self.values.pop(0)) / self.window\n",
    "        else:\n",
    "            self.mean = sum(self.values) / len(self.values)\n",
    "\n",
    "    def __call__(self):\n",
    "        return self.mean\n",
    "    \n",
    "\n",
    "class LeNet5(nn.Module):\n",
    "    \"\"\" LeNet customized to FER.\"\"\"\n",
    "    \n",
    "    def __init__(self):\n",
    "        super(LeNet5, self).__init__()\n",
    "        \n",
    "        self.convnet = nn.Sequential(\n",
    "            nn.Conv2d(1, 6, kernel_size=(5, 5)),\n",
    "            nn.ReLU(),\n",
    "            nn.MaxPool2d(kernel_size=(2, 2), stride=2),\n",
    "            nn.Conv2d(6, 16, kernel_size=(5, 5)),\n",
    "            nn.ReLU(),\n",
    "            nn.MaxPool2d(kernel_size=(2, 2), stride=2),\n",
    "            nn.Conv2d(16, 120, kernel_size=(5, 5)),\n",
    "            nn.ReLU(),\n",
    "            nn.Conv2d(120, 240, kernel_size=(5, 5)),\n",
    "            nn.ReLU())\n",
    "\n",
    "        self.fc = nn.Sequential(\n",
    "            nn.Linear(240, 84),\n",
    "            nn.ReLU(),\n",
    "            nn.Linear(84, 10))\n",
    "\n",
    "    def forward(self, x):\n",
    "        x = self.convnet(x)\n",
    "        x = x.view(x.size(0), -1)\n",
    "        x = self.fc(x)\n",
    "        return x    "
   ]
  },
  {
   "cell_type": "code",
   "execution_count": 3,
   "metadata": {},
   "outputs": [],
   "source": [
    "model_dir = '../models/lenet'\n",
    "if not os.path.exists(model_dir):\n",
    "    os.makedirs(model_dir)\n",
    "    \n",
    "hparams = {}\n",
    "hparams['n_epochs'] = 10\n",
    "hparams['data'] = 'ferplus'\n",
    "hparams['label'] = 'ferplus_votes'\n",
    "hparams['batch_size'] = 24"
   ]
  },
  {
   "cell_type": "code",
   "execution_count": 4,
   "metadata": {},
   "outputs": [
    {
     "name": "stderr",
     "output_type": "stream",
     "text": [
      "/Users/lennard/miniconda3/lib/python3.6/site-packages/torch/nn/functional.py:52: UserWarning: size_average and reduce args will be deprecated, please use reduction='sum' instead.\n",
      "  warnings.warn(warning.format(ret))\n"
     ]
    }
   ],
   "source": [
    "# Prepare dataloaders\n",
    "data = hparams['data']\n",
    "label = hparams['label']\n",
    "batch_size = hparams['batch_size']\n",
    "\n",
    "train_dataset = FerDataset(base_path='/Users/lennard/data/project/fer',\n",
    "                           data=data, mode='train', label=label)\n",
    "eval_dataset = FerDataset(base_path='/Users/lennard/data/project/fer',\n",
    "                           data=data, mode='eval', label=label)\n",
    "\n",
    "train_dataloader = DataLoader(train_dataset, batch_size=batch_size, shuffle=True, num_workers=0, drop_last=True)\n",
    "eval_dataloader = DataLoader(eval_dataset, batch_size=batch_size, shuffle=False, num_workers=0)\n",
    "\n",
    "# Prepare the network\n",
    "model = LeNet5()\n",
    "softmax = nn.Softmax(dim=-1)\n",
    "log_softmax = nn.LogSoftmax(dim=-1)\n",
    "loss_fn = nn.KLDivLoss(size_average=False)\n",
    "\n",
    "optimizer = torch.optim.Adam(model.parameters(), lr=3e-4, weight_decay=0.1)\n",
    "\n",
    "hparams['eval_steps'] = len(train_dataloader)"
   ]
  },
  {
   "cell_type": "code",
   "execution_count": 5,
   "metadata": {},
   "outputs": [],
   "source": [
    "log_path = os.path.join(model_dir, 'train.log')\n",
    "if os.path.exists(log_path):\n",
    "    os.remove(log_path)\n",
    "init_logger(log_path, to_console=False)\n",
    "\n",
    "logging.info('### Model ###\\n' + model.__repr__())\n",
    "logging.info('### Optimizer ###\\n' + optimizer.__repr__())\n",
    "\n",
    "hparams_str = \" ; \".join(\"{}: {}\".format(k, v) for k, v in hparams.items())\n",
    "logging.info('### HParams ###\\n' + hparams_str)"
   ]
  },
  {
   "cell_type": "code",
   "execution_count": 6,
   "metadata": {},
   "outputs": [
    {
     "data": {
      "application/vnd.jupyter.widget-view+json": {
       "model_id": "6bbf5124a83046edbbf9f5e888a068d9",
       "version_major": 2,
       "version_minor": 0
      },
      "text/plain": [
       "HBox(children=(IntProgress(value=0, max=11900), HTML(value='')))"
      ]
     },
     "metadata": {},
     "output_type": "display_data"
    },
    {
     "name": "stdout",
     "output_type": "stream",
     "text": [
      "[EVAL] Step: 1190 ; Loss: 0.239 ; Acc: 0.548\n",
      "[EVAL] Step: 2380 ; Loss: 0.210 ; Acc: 0.588\n",
      "[EVAL] Step: 3570 ; Loss: 0.193 ; Acc: 0.622\n",
      "[EVAL] Step: 4760 ; Loss: 0.187 ; Acc: 0.642\n",
      "[EVAL] Step: 5950 ; Loss: 0.177 ; Acc: 0.648\n",
      "[EVAL] Step: 7140 ; Loss: 0.169 ; Acc: 0.666\n",
      "[EVAL] Step: 8330 ; Loss: 0.163 ; Acc: 0.675\n",
      "[EVAL] Step: 9520 ; Loss: 0.161 ; Acc: 0.689\n",
      "[EVAL] Step: 10710 ; Loss: 0.155 ; Acc: 0.686\n",
      "[EVAL] Step: 11900 ; Loss: 0.158 ; Acc: 0.697\n",
      "\n"
     ]
    }
   ],
   "source": [
    "n_epochs = hparams['n_epochs']\n",
    "eval_steps = hparams['eval_steps']\n",
    "n_batches = len(train_dataloader)\n",
    "\n",
    "checkpoint_dir = os.path.join(model_dir, 'checkpoints')\n",
    "if not os.path.exists(checkpoint_dir):\n",
    "    os.makedirs(checkpoint_dir)\n",
    "\n",
    "step = 0\n",
    "loss_avg = RunningAverage(window=20)\n",
    "\n",
    "with tqdm(total=n_epochs * n_batches) as t:\n",
    "    train_samples_correct = 0\n",
    "    train_samples = 0\n",
    "    for epoch in range(n_epochs):\n",
    "        for x_batch, y_batch in train_dataloader:\n",
    "            \n",
    "            # Forward pass\n",
    "            logits = model(x_batch)\n",
    "            log_probs = log_softmax(logits)\n",
    "            loss = loss_fn(log_probs, y_batch)\n",
    "\n",
    "            # Backward pass\n",
    "            optimizer.zero_grad()\n",
    "            loss.backward()\n",
    "            optimizer.step()\n",
    "\n",
    "            # Logging\n",
    "            train_samples += batch_size\n",
    "            probs = softmax(logits)\n",
    "            train_samples_correct += probs.argmax(dim=-1).eq(y_batch.argmax(dim=-1)).sum().item()\n",
    "            acc = train_samples_correct / train_samples * 100\n",
    "            loss_avg.update(loss.item())\n",
    "            logging.info('[TRAIN] Step: {} ; Loss: {:05.3f} ; Acc: {:02.3f}'.format(step, loss, acc))\n",
    "            t.set_postfix(loss='{:05.3f}'.format(loss_avg()), acc='{:02.3f}'.format(acc))\n",
    "            t.update()\n",
    "\n",
    "            step += 1\n",
    "            \n",
    "\n",
    "            # Evaluate\n",
    "            if step > 0 and step % eval_steps == 0:\n",
    "                model.eval()\n",
    "                eval_samples_correct = 0\n",
    "                eval_loss = 0\n",
    "                for x_batch, y_batch in eval_dataloader:\n",
    "                    logits = model(x_batch)\n",
    "                    probs = softmax(logits)\n",
    "                    log_probs = torch.log(probs)\n",
    "                    eval_loss += loss_fn(log_probs, y_batch)\n",
    "                    eval_samples_correct += probs.argmax(dim=-1).eq(y_batch.argmax(dim=-1)).sum().item()\n",
    "                    \n",
    "                eval_loss /= len(eval_dataloader) * 100\n",
    "                eval_acc = eval_samples_correct / len(eval_dataset)\n",
    "                eval_summary = '[EVAL] Step: {} ; Loss: {:05.3f} ; Acc: {:02.3f}'.format(step, eval_loss, eval_acc)\n",
    "                logging.info(eval_summary)\n",
    "                t.write(eval_summary)\n",
    "                checkpoint = {'model': model.state_dict(),\n",
    "                              'optimizer': optimizer.state_dict(),\n",
    "                              'step': step,\n",
    "                              'eval_loss': eval_loss,\n",
    "                              'eval_acc': eval_acc,\n",
    "                              'train_run_loss': loss_avg(),\n",
    "                              'train_acc' : acc,\n",
    "                              'hparams': hparams}\n",
    "                filename = time.strftime(\"%Y%m%d-%H%M%S\") + '.pth.tar'\n",
    "                torch.save(checkpoint, os.path.join(checkpoint_dir, filename))\n",
    "                model.train()"
   ]
  },
  {
   "cell_type": "code",
   "execution_count": null,
   "metadata": {},
   "outputs": [],
   "source": []
  },
  {
   "cell_type": "code",
   "execution_count": null,
   "metadata": {},
   "outputs": [],
   "source": []
  },
  {
   "cell_type": "code",
   "execution_count": null,
   "metadata": {},
   "outputs": [],
   "source": []
  },
  {
   "cell_type": "code",
   "execution_count": null,
   "metadata": {},
   "outputs": [],
   "source": []
  },
  {
   "cell_type": "code",
   "execution_count": null,
   "metadata": {},
   "outputs": [],
   "source": []
  },
  {
   "cell_type": "code",
   "execution_count": null,
   "metadata": {},
   "outputs": [],
   "source": []
  },
  {
   "cell_type": "code",
   "execution_count": null,
   "metadata": {},
   "outputs": [],
   "source": []
  },
  {
   "cell_type": "code",
   "execution_count": null,
   "metadata": {},
   "outputs": [],
   "source": []
  },
  {
   "cell_type": "code",
   "execution_count": null,
   "metadata": {},
   "outputs": [],
   "source": []
  },
  {
   "cell_type": "code",
   "execution_count": null,
   "metadata": {},
   "outputs": [],
   "source": []
  },
  {
   "cell_type": "code",
   "execution_count": null,
   "metadata": {},
   "outputs": [],
   "source": []
  }
 ],
 "metadata": {
  "kernelspec": {
   "display_name": "Python 3",
   "language": "python",
   "name": "python3"
  },
  "language_info": {
   "codemirror_mode": {
    "name": "ipython",
    "version": 3
   },
   "file_extension": ".py",
   "mimetype": "text/x-python",
   "name": "python",
   "nbconvert_exporter": "python",
   "pygments_lexer": "ipython3",
   "version": "3.6.5"
  }
 },
 "nbformat": 4,
 "nbformat_minor": 2
}
