{
 "cells": [
  {
   "cell_type": "code",
   "execution_count": 1,
   "metadata": {},
   "outputs": [],
   "source": [
    "import sys\n",
    "sys.path.append(\"..\")\n",
    "from utils.dataset import FerDataset\n",
    "\n",
    "import numpy as np\n",
    "\n",
    "import torch\n",
    "import torch.nn as nn\n",
    "import torch.nn.functional as F\n",
    "from torch.utils.data import DataLoader\n",
    "\n",
    "\n",
    "import matplotlib.pyplot as plt\n",
    "%matplotlib inline"
   ]
  },
  {
   "cell_type": "code",
   "execution_count": 41,
   "metadata": {},
   "outputs": [],
   "source": [
    "class GatingUnit(nn.Module):\n",
    "    \"\"\"Gating unit described in 'Convolutional Networks with Adaptive Inference Graphs'.\"\"\"\n",
    "    \n",
    "    def __init__(self, in_channels, hidden_layer_dim):\n",
    "        super(GatingUnit, self).__init__()\n",
    "        \n",
    "        self.global_avg_pool = nn.AdaptiveAvgPool2d(1)\n",
    "        self.estimate_relevance = nn.Sequential(\n",
    "            nn.Linear(in_channels, hidden_layer_dim),\n",
    "            nn.ReLU(),\n",
    "            nn.Linear(hidden_layer_dim, 2))\n",
    "        \n",
    "    def forward(self, x):\n",
    "        x = self.global_avg_pool(x)\n",
    "        x = x.view(x.size(0), -1) \n",
    "        x = self.estimate_relevance(x)\n",
    "        x = F.gumbel_softmax(x, tau=1, hard=True)\n",
    "        return x\n",
    "    \n",
    "    \n",
    "class AdaptiveConv2d(nn.Module):\n",
    "    \"\"\"Adaptive Conv2d layer described in 'Convolutional Networks with Adaptive Inference Graphs'.\"\"\"\n",
    "    \n",
    "    def __init__(self,in_channels, out_channels, kernel_size, stride=1,\n",
    "                 padding=0, dilation=1, groups=1, bias=True):\n",
    "        super(GatingUnit, self).__init__()\n",
    "        \n",
    "        self.gate = GatingUnit()\n",
    "        self.weights = torch\n",
    "        \n",
    "    def forward(self, x):\n",
    "        x = self.global_avg_pool(x)\n",
    "        x = x.view(x.size(0), -1) \n",
    "        x = self.estimate_relevance(x)\n",
    "        x = F.gumbel_softmax(x, tau=1, hard=True)\n",
    "        return x"
   ]
  },
  {
   "cell_type": "code",
   "execution_count": 58,
   "metadata": {},
   "outputs": [],
   "source": [
    "x = torch.rand(12, 3, 5, 5)\n",
    "gate = GatingUnit(in_channels=3, hidden_layer_dim=16)\n",
    "cond = gate(x)\n",
    "batch_slice = torch.where(cond == )"
   ]
  },
  {
   "cell_type": "code",
   "execution_count": 59,
   "metadata": {},
   "outputs": [
    {
     "data": {
      "text/plain": [
       "tensor([[ 0.,  1.],\n",
       "        [ 1.,  0.],\n",
       "        [ 0.,  1.],\n",
       "        [ 0.,  1.],\n",
       "        [ 1.,  0.],\n",
       "        [ 0.,  1.],\n",
       "        [ 0.,  1.],\n",
       "        [ 1.,  0.],\n",
       "        [ 0.,  1.],\n",
       "        [ 1.,  0.],\n",
       "        [ 0.,  1.],\n",
       "        [ 0.,  1.]])"
      ]
     },
     "execution_count": 59,
     "metadata": {},
     "output_type": "execute_result"
    }
   ],
   "source": [
    "batch_slice[]"
   ]
  },
  {
   "cell_type": "code",
   "execution_count": 29,
   "metadata": {},
   "outputs": [],
   "source": [
    "x = torch.rand(2, 3, 5, 5)"
   ]
  },
  {
   "cell_type": "code",
   "execution_count": 32,
   "metadata": {},
   "outputs": [
    {
     "data": {
      "text/plain": [
       "tensor([[ 0., -2.],\n",
       "        [ 0.,  0.]])"
      ]
     },
     "execution_count": 32,
     "metadata": {},
     "output_type": "execute_result"
    }
   ],
   "source": [
    "x = torch.rand(2, 3, 5, 5)\n",
    "[]\n",
    "out = x[0, 1].pow(2).sum()\n",
    "out.backward()\n",
    "x.grad"
   ]
  },
  {
   "cell_type": "code",
   "execution_count": 61,
   "metadata": {},
   "outputs": [],
   "source": [
    "torch.where?"
   ]
  },
  {
   "cell_type": "code",
   "execution_count": null,
   "metadata": {},
   "outputs": [],
   "source": [
    "c = np.arange(0, 16).reshape(4, 4)\n",
    "x = np.array([c, c, c])[np.newaxis, ...]\n",
    "x = torch.from_numpy(x).float()\n",
    "y = F.adaptive_avg_pool2d(x, 1)\n",
    "print(y.shape)"
   ]
  },
  {
   "cell_type": "code",
   "execution_count": 39,
   "metadata": {},
   "outputs": [
    {
     "data": {
      "text/plain": [
       "array([0, 0, 0, 1, 1])"
      ]
     },
     "execution_count": 39,
     "metadata": {},
     "output_type": "execute_result"
    }
   ],
   "source": [
    "batch_slice"
   ]
  },
  {
   "cell_type": "code",
   "execution_count": null,
   "metadata": {},
   "outputs": [],
   "source": []
  },
  {
   "cell_type": "code",
   "execution_count": null,
   "metadata": {},
   "outputs": [],
   "source": []
  }
 ],
 "metadata": {
  "kernelspec": {
   "display_name": "Python 3",
   "language": "python",
   "name": "python3"
  },
  "language_info": {
   "codemirror_mode": {
    "name": "ipython",
    "version": 3
   },
   "file_extension": ".py",
   "mimetype": "text/x-python",
   "name": "python",
   "nbconvert_exporter": "python",
   "pygments_lexer": "ipython3",
   "version": "3.5.5"
  }
 },
 "nbformat": 4,
 "nbformat_minor": 2
}
