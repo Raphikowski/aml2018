{
 "cells": [
  {
   "cell_type": "code",
   "execution_count": 1,
   "metadata": {},
   "outputs": [],
   "source": [
    "import os\n",
    "os.environ['OMP_NUM_THREADS'] = '4'\n",
    "import sys\n",
    "sys.path.append(\"..\")\n",
    "from utils.dataset import FerDataset\n",
    "from utils.resnet import *\n",
    "from utils.tools import init_logger, RunningAverage\n",
    "\n",
    "import numpy as np\n",
    "from tqdm import tqdm_notebook as tqdm\n",
    "import logging\n",
    "import time\n",
    "\n",
    "import torch\n",
    "import torch.nn as nn\n",
    "import torch.nn.functional as F\n",
    "from torch.utils.data import DataLoader\n",
    "\n",
    "import matplotlib.pyplot as plt\n",
    "%matplotlib inline"
   ]
  },
  {
   "cell_type": "code",
   "execution_count": 2,
   "metadata": {},
   "outputs": [],
   "source": [
    "model_dir = '../models/resnet'\n",
    "if not os.path.exists(model_dir):\n",
    "    os.makedirs(model_dir)\n",
    "    \n",
    "hparams = {}\n",
    "hparams['n_epochs'] = 1\n",
    "hparams['data'] = 'ferplus'\n",
    "hparams['label'] = 'ferplus_votes'\n",
    "hparams['batch_size'] = 24\n",
    "hparams['wd'] = 0\n",
    "hparams['lr'] = 1e-3\n",
    "hparams['adaptive'] = False"
   ]
  },
  {
   "cell_type": "code",
   "execution_count": 3,
   "metadata": {},
   "outputs": [
    {
     "name": "stderr",
     "output_type": "stream",
     "text": [
      "/Users/d069741/anaconda3/lib/python3.5/site-packages/torch/nn/functional.py:54: UserWarning: size_average and reduce args will be deprecated, please use reduction='sum' instead.\n",
      "  warnings.warn(warning.format(ret))\n"
     ]
    }
   ],
   "source": [
    "# Prepare dataloaders\n",
    "data = hparams['data']\n",
    "label = hparams['label']\n",
    "batch_size = hparams['batch_size']\n",
    "\n",
    "train_dataset = FerDataset(base_path='../fer',\n",
    "                           data=data, mode='train', label=label)\n",
    "eval_dataset = FerDataset(base_path='../fer',\n",
    "                           data=data, mode='eval', label=label)\n",
    "\n",
    "train_dataloader = DataLoader(train_dataset, batch_size=batch_size, shuffle=True, num_workers=0, drop_last=True)\n",
    "eval_dataloader = DataLoader(eval_dataset, batch_size=batch_size, shuffle=False, num_workers=0)\n",
    "\n",
    "# Prepare the network\n",
    "model = ResNet(BasicBlock, [2, 2, 2, 2], num_classes=train_dataset.n_classes, adaptive=hparams['adaptive'])\n",
    "softmax = nn.Softmax(dim=-1)\n",
    "log_softmax = nn.LogSoftmax(dim=-1)\n",
    "loss_fn = nn.KLDivLoss(size_average=False)\n",
    "\n",
    "def criterion(logits, labels):\n",
    "    return loss_fn(log_softmax(logits), labels)\n",
    "    \n",
    "optimizer = torch.optim.Adam(model.parameters(), lr=hparams['lr'], weight_decay=hparams['wd'])\n",
    "\n",
    "hparams['eval_steps'] = len(train_dataloader)"
   ]
  },
  {
   "cell_type": "code",
   "execution_count": 4,
   "metadata": {},
   "outputs": [],
   "source": [
    "log_path = os.path.join(model_dir, 'resnet_train_04.log')\n",
    "if os.path.exists(log_path):\n",
    "    os.remove(log_path)\n",
    "init_logger(log_path, to_console=False)\n",
    "\n",
    "logging.info('### Model ###\\n' + model.__repr__())\n",
    "logging.info('### Optimizer ###\\n' + optimizer.__repr__())\n",
    "\n",
    "hparams_str = \" ; \".join(\"{}: {}\".format(k, v) for k, v in hparams.items())\n",
    "logging.info('### HParams ###\\n' + hparams_str)"
   ]
  },
  {
   "cell_type": "code",
   "execution_count": null,
   "metadata": {},
   "outputs": [
    {
     "data": {
      "application/vnd.jupyter.widget-view+json": {
       "model_id": "e9de14e7b89d46c18c06cd6df0d012a8",
       "version_major": 2,
       "version_minor": 0
      },
      "text/plain": [
       "HBox(children=(IntProgress(value=0, max=1190), HTML(value='')))"
      ]
     },
     "metadata": {},
     "output_type": "display_data"
    }
   ],
   "source": [
    "n_epochs = hparams['n_epochs']\n",
    "eval_steps = hparams['eval_steps']\n",
    "n_batches = len(train_dataloader)\n",
    "wd = hparams['wd']\n",
    "\n",
    "checkpoint_dir = os.path.join(model_dir, 'checkpoints')\n",
    "if not os.path.exists(checkpoint_dir):\n",
    "    os.makedirs(checkpoint_dir)\n",
    "\n",
    "step = 0\n",
    "loss_avg = RunningAverage(window=20)\n",
    "model.train()\n",
    "with tqdm(total=n_epochs * n_batches) as t:\n",
    "    train_samples_correct = 0\n",
    "    train_samples = 0\n",
    "    for epoch in range(n_epochs):\n",
    "        for x_batch, y_batch in train_dataloader:\n",
    "            \n",
    "            # Forward pass\n",
    "            logits = model(x_batch)\n",
    "            log_probs = log_softmax(logits)\n",
    "            loss = loss_fn(log_probs, y_batch)\n",
    "\n",
    "            # Backward pass\n",
    "            optimizer.zero_grad()\n",
    "            loss.backward()\n",
    "            optimizer.step()\n",
    "\n",
    "            # Logging\n",
    "            train_samples += batch_size\n",
    "            probs = softmax(logits)\n",
    "            train_samples_correct += probs.argmax(dim=-1).eq(y_batch.argmax(dim=-1)).sum().item()\n",
    "            acc = train_samples_correct / train_samples * 100\n",
    "            loss_avg.update(loss.item())\n",
    "            logging.info('[TRAIN] Step: {} ; Loss: {:05.3f} ; Acc: {:02.3f}'.format(step, loss, acc))\n",
    "            t.set_postfix(loss='{:05.3f}'.format(loss_avg()), acc='{:02.3f}'.format(acc))\n",
    "            t.update()\n",
    "\n",
    "            step += 1\n",
    "            \n",
    "\n",
    "            # Evaluate\n",
    "            if step > 0 and step % eval_steps == 0:\n",
    "                model.eval()\n",
    "                eval_samples_correct = 0\n",
    "                eval_loss = 0\n",
    "                for x_batch, y_batch in eval_dataloader:\n",
    "                    logits = model(x_batch)\n",
    "                    probs = softmax(logits)\n",
    "                    log_probs = torch.log(probs)\n",
    "                    eval_loss += loss_fn(log_probs, y_batch)\n",
    "                    eval_samples_correct += probs.argmax(dim=-1).eq(y_batch.argmax(dim=-1)).sum().item()\n",
    "                    \n",
    "                eval_loss /= len(eval_dataloader)\n",
    "                eval_acc = eval_samples_correct / len(eval_dataset) * 100\n",
    "                eval_summary = '[EVAL] Step: {} ; Loss: {:05.3f} ; Acc: {:02.3f}'.format(step, eval_loss, eval_acc)\n",
    "                logging.info(eval_summary)\n",
    "                t.write(eval_summary)\n",
    "                checkpoint = {'model': model.state_dict(),\n",
    "                              'optimizer': optimizer.state_dict(),\n",
    "                              'step': step,\n",
    "                              'eval_loss': eval_loss,\n",
    "                              'eval_acc': eval_acc,\n",
    "                              'train_run_loss': loss_avg(),\n",
    "                              'train_acc' : acc,\n",
    "                              'hparams': hparams}\n",
    "                filename = time.strftime(\"%Y%m%d-%H%M%S\") + '.pth.tar'\n",
    "                torch.save(checkpoint, os.path.join(checkpoint_dir, filename))\n",
    "                model.train()"
   ]
  },
  {
   "cell_type": "markdown",
   "metadata": {
    "collapsed": true
   },
   "source": [
    "\n",
    "| lr   | train_acc   | eval_acc | train_loss | eval_loss |\n",
    "| ---- | ----------- | -------- | ---------- | --------- | \n",
    "| 1e-6 |      26.800 |   31.400 |     58.826 |    59.300 |\n",
    "| 1e-5 |      35.550 |   36.700 |     30.607 |    36.700 |\n",
    "| 1e-4 |      47.349 |   56.900 |     20.955 |    22.300 |\n",
    "| 1e-3 |      xx.xxx |   xx.xxx |     xx.xxx |    xx.xxx |\n",
    "| 1e-2 |      xx.xxx |   xx.xxx |     xx.xxx |    xx.xxx |\n",
    "| 1e-1 |      xx.xxx |   xx.xxx |     xx.xxx |    xx.xxx |"
   ]
  },
  {
   "cell_type": "code",
   "execution_count": null,
   "metadata": {},
   "outputs": [],
   "source": []
  },
  {
   "cell_type": "code",
   "execution_count": null,
   "metadata": {},
   "outputs": [],
   "source": []
  },
  {
   "cell_type": "code",
   "execution_count": null,
   "metadata": {},
   "outputs": [],
   "source": []
  },
  {
   "cell_type": "code",
   "execution_count": null,
   "metadata": {},
   "outputs": [],
   "source": []
  }
 ],
 "metadata": {
  "kernelspec": {
   "display_name": "Python 3",
   "language": "python",
   "name": "python3"
  },
  "language_info": {
   "codemirror_mode": {
    "name": "ipython",
    "version": 3
   },
   "file_extension": ".py",
   "mimetype": "text/x-python",
   "name": "python",
   "nbconvert_exporter": "python",
   "pygments_lexer": "ipython3",
   "version": "3.5.5"
  }
 },
 "nbformat": 4,
 "nbformat_minor": 2
}
